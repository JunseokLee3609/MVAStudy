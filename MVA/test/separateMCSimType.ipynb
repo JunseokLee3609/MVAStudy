{
 "cells": [
  {
   "cell_type": "code",
   "execution_count": null,
   "metadata": {},
   "outputs": [],
   "source": [
    "import matplotlib.pyplot as plt\n",
    "import uproot as urt\n",
    "import numpy as np\n",
    "import mplhep as hep\n",
    "import sys\n",
    "# adding Folder_2 to the system path\n",
    "sys.path.insert(0, '../lib')\n",
    "import json\n",
    "from treeIO import varData, ROOTDataset, getFile, rangeData\n",
    "from plotHelper import DrawVarHist"
   ]
  },
  {
   "cell_type": "code",
   "execution_count": null,
   "metadata": {},
   "outputs": [],
   "source": [
    "nFileMCPR = getFile('MC','Prompt')[0]\n",
    "MCLoader = ROOTDataset(nFileMCPR, \"mvaTupler/muonTuple\", varData, '60 MB')\n",
    "\n",
    "nFileMCNR = getFile('MC','NonPrompt')[0]\n",
    "MCLoader = ROOTDataset(nFileMCNR, \"mvaTupler/muonTuple\", varData, '60 MB')"
   ]
  },
  {
   "cell_type": "code",
   "execution_count": null,
   "metadata": {},
   "outputs": [],
   "source": [
    "varArr = {d : np.empty(0) for d in varData}\n",
    "uniformHistbin =[1,3,5,7,12,20,100] \n",
    "histArr = {\n",
    "    \"DATA\" : {\n",
    "        d : np.histogram([], bins=uniformHistbin)for d in varData\n",
    "    },\n",
    "    \"MCPR\" : {\n",
    "        i : {d : np.histogram([], bins=uniformHistbin)for d in varData } for i in [-999] + [ x for x in range(-11,12) ]\n",
    "    }\n",
    "}\n",
    "hist2DArr = {\n",
    "    \"DATA\" :{\n",
    "    },\n",
    "    \"MCPR\" :{\n",
    "        'matching_' : ''\n",
    "    }\n",
    "}\n"
   ]
  },
  {
   "cell_type": "code",
   "execution_count": null,
   "metadata": {},
   "outputs": [],
   "source": [
    "print(rangeData['local_chi2'][1]) "
   ]
  },
  {
   "cell_type": "code",
   "execution_count": null,
   "metadata": {},
   "outputs": [],
   "source": [
    "\n",
    "for i, data in enumerate(MCLoader):\n",
    "    print(i)\n",
    "    for tup in data[1]:\n",
    "        # print(data[1])\n",
    "        keyList = list(data[1].keys())\n",
    "        dataValues = np.array(list(data[1].values())).T\n",
    "        # print(dataValues.shape)\n",
    "        for matchIdx in [-999] + [ x for x in range(-11,12) ]:\n",
    "            if i == 0 :\n",
    "                histArr[\"MCPR\"][matchIdx][tup] = np.histogram(\n",
    "                    dataValues[dataValues[:,keyList.index('matching')] == matchIdx][:,keyList.index(tup)],\n",
    "                    bins=int(rangeData[tup][1]), \n",
    "                    range=tuple(rangeData[tup][0])\n",
    "                    )\n",
    "                # print(tup+' ',histArr[\"MCPR\"][matchIdx][tup][1])\n",
    "            else :\n",
    "                histArr[\"MCPR\"][matchIdx][tup][0][:] = np.histogram(\n",
    "                    dataValues[dataValues[:,keyList.index('matching')] == matchIdx][:,keyList.index(tup)],\n",
    "                    histArr[\"MCPR\"][matchIdx][tup][1]\n",
    "                    )[0][:]\n",
    "                # print(tup+' ',histArr[\"MCPR\"][matchIdx][tup][1])\n",
    "    if i > 6:\n",
    "        break"
   ]
  },
  {
   "cell_type": "code",
   "execution_count": null,
   "metadata": {},
   "outputs": [],
   "source": [
    "densityArr = {\n",
    "    \"DATA\" : { \n",
    "    },\n",
    "    \"MCPR\": {\n",
    "        # d : np.histogram( histArr[\"MCPR\"][d][1][1:], histArr[\"MCPR\"][d][1], weights=(histArr[\"MCPR\"][d][0]/histArr[\"MCPR\"][d][0].sum()), density=True ) for d in varData \n",
    "        i : {d : np.histogram( histArr[\"MCPR\"][i][d][1][1:], histArr[\"MCPR\"][i][d][1], weights=(histArr[\"MCPR\"][i][d][0]/histArr[\"MCPR\"][i][d][0].sum()), density=True ) for d in varData } for i in [-999] + [ x for x in range(-11,12) ]\n",
    "    }\n",
    "}"
   ]
  },
  {
   "cell_type": "code",
   "execution_count": null,
   "metadata": {},
   "outputs": [],
   "source": [
    "hep.style.use(\"CMS\");\n",
    "\n",
    "for var in varData :\n",
    "    fig, axs = plt.subplot_mosaic([['plt','plt','plt', 'leg']], figsize=(15,11), empty_sentinel='leg');\n",
    "    hep.cms.label('Internal', data=True, lumi=1.71, year=2023, com=5.36);\n",
    "    hep.histplot(\n",
    "        [ _p_ for _p_ in [[densityArr['MCPR'][i][var] for i in [-999] + [ x for x in range(-11,12)]]][0]],\n",
    "        ax=axs['plt'],\n",
    "        histtype='step',\n",
    "        label=list(densityArr[\"MCPR\"].keys()),\n",
    "        # label=[ i for i in [-999] + [ x for x in range(-11,12) ]]\n",
    "        )    \n",
    "    axs['plt'].legend(loc='upper right', bbox_to_anchor=(1.4, 1), borderaxespad=0., fontsize='xx-small', ncols=2)\n",
    "    plt.text(0.89, 0.7, var, horizontalalignment='right', transform=axs['plt'].transAxes)\n",
    "    plt.savefig('variables/MCSimType/'+var+'.png')\n",
    "    # break;"
   ]
  },
  {
   "cell_type": "code",
   "execution_count": null,
   "metadata": {},
   "outputs": [],
   "source": []
  },
  {
   "cell_type": "code",
   "execution_count": null,
   "metadata": {},
   "outputs": [],
   "source": []
  }
 ],
 "metadata": {
  "kernelspec": {
   "display_name": ".env",
   "language": "python",
   "name": "python3"
  },
  "language_info": {
   "codemirror_mode": {
    "name": "ipython",
    "version": 3
   },
   "file_extension": ".py",
   "mimetype": "text/x-python",
   "name": "python",
   "nbconvert_exporter": "python",
   "pygments_lexer": "ipython3",
   "version": "3.11.5"
  }
 },
 "nbformat": 4,
 "nbformat_minor": 2
}
